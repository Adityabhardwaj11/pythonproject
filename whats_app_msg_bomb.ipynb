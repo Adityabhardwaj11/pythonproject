{
 "cells": [
  {
   "cell_type": "code",
   "execution_count": null,
   "metadata": {},
   "outputs": [],
   "source": [
    "from selenium import webdriver\n",
    "import time\n",
    "from selenium.webdriver.common.keys import Keys\n",
    "\n",
    "import random\n",
    "driver=webdriver.Chrome()\n",
    "driver.get('https://web.whatsapp.com/')\n",
    "choice =1;\n",
    "def send():\n",
    "    name=input(\"enter the user name \")\n",
    "    r=int(input(\"enter how many msg you want to send \"))\n",
    "    l=[]\n",
    "    while True:\n",
    "        n=input(\"enter your text \")\n",
    "        if n==\"\":\n",
    "            break\n",
    "        l.append(n)\n",
    "    time.sleep(3)    \n",
    "    search=driver.find_element_by_xpath('/html/body/div[1]/div/div/div[3]/div/div[1]/div/div/div[2]/div/div[2]')\n",
    "    search.click()\n",
    "    time.sleep(2)\n",
    "    search.send_keys(name)\n",
    "    time.sleep(2)\n",
    "    search.send_keys(Keys.PAGE_DOWN)\n",
    "    search.send_keys(Keys.ENTER)\n",
    "    time.sleep(2)                \n",
    "    msg=driver.find_element_by_xpath('//*[@id=\"main\"]/footer/div[1]/div/span[2]/div/div[2]/div[1]/div/div[1]/p')\n",
    "    msg.click()\n",
    "    time.sleep(2)\n",
    "    for i in range(0,r+1):\n",
    "        g=random.choice(l)\n",
    "        msg.send_keys(g)\n",
    "        send=driver.find_element_by_xpath('/html/body/div[1]/div/div/div[4]/div/footer/div[1]/div/span[2]/div/div[2]/div[2]/button')\n",
    "        send.click()\n",
    "        msg=driver.find_element_by_xpath('//*[@id=\"main\"]/footer/div[1]/div/span[2]/div/div[2]/div[1]/div/div[1]/p')\n",
    "        msg.click()\n",
    "    return\n",
    "\n",
    "\n",
    "\n",
    "\n",
    "while(1):\n",
    "    \n",
    "        if choice ==1:\n",
    "            send()\n",
    "        \n",
    "        elif choice ==2:\n",
    "            exit()\n",
    "        else:\n",
    "            print(\"invalud\")\n",
    "        choice=int(input(\"enter the choice \"))\n",
    "\n",
    "    \n",
    "\n",
    "\n"
   ]
  }
 ],
 "metadata": {
  "kernelspec": {
   "display_name": "Python 3",
   "language": "python",
   "name": "python3"
  },
  "language_info": {
   "codemirror_mode": {
    "name": "ipython",
    "version": 3
   },
   "file_extension": ".py",
   "mimetype": "text/x-python",
   "name": "python",
   "nbconvert_exporter": "python",
   "pygments_lexer": "ipython3",
   "version": "3.8.10"
  }
 },
 "nbformat": 4,
 "nbformat_minor": 4
}
